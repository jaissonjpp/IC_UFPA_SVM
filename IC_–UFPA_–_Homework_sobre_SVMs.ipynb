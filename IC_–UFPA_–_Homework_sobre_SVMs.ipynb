{
  "nbformat": 4,
  "nbformat_minor": 0,
  "metadata": {
    "colab": {
      "provenance": [],
      "include_colab_link": true
    },
    "kernelspec": {
      "name": "python3",
      "display_name": "Python 3"
    },
    "language_info": {
      "name": "python"
    }
  },
  "cells": [
    {
      "cell_type": "markdown",
      "metadata": {
        "id": "view-in-github",
        "colab_type": "text"
      },
      "source": [
        "<a href=\"https://colab.research.google.com/github/jaissonjpp/IC_UFPA_SVM/blob/main/IC_%E2%80%93UFPA_%E2%80%93_Homework_sobre_SVMs.ipynb\" target=\"_parent\"><img src=\"https://colab.research.google.com/assets/colab-badge.svg\" alt=\"Open In Colab\"/></a>"
      ]
    },
    {
      "cell_type": "markdown",
      "source": [
        "[repositorio Git Hub](https://github.com/jaissonjpp/IC_UFPA_SVM)"
      ],
      "metadata": {
        "id": "LM5QL8mlC2Qf"
      }
    },
    {
      "cell_type": "markdown",
      "source": [
        "**HOMEWORK 6D PRÉ PROCESSAMENTO**\n",
        "\n",
        "Datasets da matricula 201906840011\n"
      ],
      "metadata": {
        "id": "MohMyc7DSTuw"
      }
    },
    {
      "cell_type": "code",
      "source": [
        "import numpy as np\n",
        "\n",
        "# Definindo os conjuntos de dados\n",
        "X_train = [(3000,0),(2000,-3),(-2000,-3),(-2000,-3),(6000,3),(-1000,-5),(6000,2),(3000,0)]\n",
        "Y_train = [0,0,0,0,1,1,1,1]\n",
        "\n",
        "X_test = [(-1000,-2),(3000,1),(-6000,5),(-4000,1),(-2000,-6)]\n",
        "Y_test = [0,0,1,1,1]\n",
        "\n",
        "X_val = [(-4000,2),(-2000,1),(6000,-5),(1000,2)]\n",
        "Y_val = [0,0,1,1]"
      ],
      "metadata": {
        "id": "c4-h_z1jSY0o"
      },
      "execution_count": null,
      "outputs": []
    },
    {
      "cell_type": "markdown",
      "source": [
        "**Calculando médias e desvio padrão do conjunto de treino**"
      ],
      "metadata": {
        "id": "4VtGR2TGWlHM"
      }
    },
    {
      "cell_type": "code",
      "source": [
        "mean_train = np.mean(X_train, axis=0)\n",
        "std_train = np.std(X_train, axis=0)\n",
        "\n",
        "#normalizando o conjunto X_train\n",
        "train_normalized = (X_train - mean_train)/std_train\n",
        "\n",
        "#normalizando os conjuntos de teste e validação com os parâmentros do conjunto de treino\n",
        "test_normalized = (X_test - mean_train)/std_train\n",
        "mean_test = np.mean(test_normalized, axis=0)\n",
        "std_test = np.std(test_normalized, axis=0)\n",
        "\n",
        "validation_normalized = (X_val - mean_train)/std_train\n",
        "mean_val = np.mean(validation_normalized, axis=0)\n",
        "std_val = np.std(validation_normalized, axis=0)\n",
        "\n",
        "print(\"\\nMédia do conjunto de treino:\")\n",
        "print(mean_train)\n",
        "\n",
        "print(\"\\nDesvio padrão do conjunto de treino:\")\n",
        "print(np.std(train_normalized, axis=0))\n",
        "\n",
        "print(\"\\nConjunto de treino normalizado:\")\n",
        "print(train_normalized)\n",
        "\n",
        "print(\"\\nMédia do conjunto de teste:\")\n",
        "print(mean_test)\n",
        "\n",
        "print(\"\\nDesvio padrão do conjunto de teste:\")\n",
        "print(std_test)\n",
        "\n",
        "print(\"\\nConjunto de teste normalizado:\")\n",
        "print(test_normalized)\n",
        "\n",
        "print(\"\\nMédia do conjunto de validação:\")\n",
        "print(mean_val)\n",
        "\n",
        "print(\"\\nDesvio padrão do conjunto de validação:\")\n",
        "print(std_val)\n",
        "\n",
        "print(\"\\nConjunto de validação normalizado:\")\n",
        "print(validation_normalized)"
      ],
      "metadata": {
        "colab": {
          "base_uri": "https://localhost:8080/"
        },
        "id": "CHJhryNjWqc-",
        "outputId": "d8638990-9b4e-41a5-fc4f-dd0dbed32888"
      },
      "execution_count": null,
      "outputs": [
        {
          "output_type": "stream",
          "name": "stdout",
          "text": [
            "\n",
            "Média do conjunto de treino:\n",
            "[ 1.875e+03 -1.125e+00]\n",
            "\n",
            "Desvio padrão do conjunto de treino:\n",
            "[1. 1.]\n",
            "\n",
            "Conjunto de treino normalizado:\n",
            "[[ 0.36773003  0.42954656]\n",
            " [ 0.04085889 -0.71591094]\n",
            " [-1.26662566 -0.71591094]\n",
            " [-1.26662566 -0.71591094]\n",
            " [ 1.34834345  1.57500407]\n",
            " [-0.93975452 -1.47954928]\n",
            " [ 1.34834345  1.1931849 ]\n",
            " [ 0.36773003  0.42954656]]\n",
            "\n",
            "Média do conjunto de teste:\n",
            "[-1.26662566  0.35318273]\n",
            "\n",
            "Desvio padrão do conjunto de teste:\n",
            "[0.99144925 1.39559998]\n",
            "\n",
            "Conjunto de teste normalizado:\n",
            "[[-0.93975452 -0.33409177]\n",
            " [ 0.36773003  0.81136573]\n",
            " [-2.57411022  2.3386424 ]\n",
            " [-1.92036794  0.81136573]\n",
            " [-1.26662566 -1.86136844]]\n",
            "\n",
            "Média do conjunto de validação:\n",
            "[-0.5311656   0.42954656]\n",
            "\n",
            "Desvio padrão do conjunto de validação:\n",
            "[1.23120257 1.1131846 ]\n",
            "\n",
            "Conjunto de validação normalizado:\n",
            "[[-1.92036794  1.1931849 ]\n",
            " [-1.26662566  0.81136573]\n",
            " [ 1.34834345 -1.47954928]\n",
            " [-0.28601225  1.1931849 ]]\n"
          ]
        }
      ]
    },
    {
      "cell_type": "markdown",
      "source": [
        "![Captura de tela 2023-09-21 091201.png](data:image/png;base64,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)"
      ],
      "metadata": {
        "id": "IVWppKqtpn4t"
      }
    },
    {
      "cell_type": "markdown",
      "source": [
        "A) O primeiro possui 2 erros ou 28% de erro.\n",
        "   O segunfo possui 1 erro ou 14% de erro.\n",
        "   O terceiro possui 1 erro ou 14% de erro\n",
        "   E o último não possui erros.\n",
        "\n",
        "B) **A melhor SVM é \"SVC with polynomial...\" pois o hiperplano obtido ao final dos testes é o que melhor diferencia as duas classes pois não apresenta erros, além de aparentar tem um margem \"perfeita\" entre as duas classes a olho nu.**"
      ],
      "metadata": {
        "id": "mfdyB9jFUQKm"
      }
    },
    {
      "cell_type": "markdown",
      "source": [
        "# Homework_5_SVMs"
      ],
      "metadata": {
        "id": "A4nZ02xKdTAd"
      }
    },
    {
      "cell_type": "markdown",
      "source": [
        "## Questão 1"
      ],
      "metadata": {
        "id": "zMmNUM3Gd8q_"
      }
    },
    {
      "cell_type": "markdown",
      "source": [
        "### a)\n"
      ],
      "metadata": {
        "id": "sRFrOf1OeJ3X"
      }
    },
    {
      "cell_type": "markdown",
      "source": [
        "\n",
        "*   LinearSVC (linear kernel)\n",
        "\n",
        "    Erro = Erro_Azul + Erro_Verm = 1 + 1 = 2\n",
        "\n",
        "*   SVC (linear kernel)\n",
        "\n",
        "    Erro = Erro_Azul + Erro_Verm = 0 + 1 = 1\n",
        "\n",
        "*   SVC (RBF kernel)\n",
        "\n",
        "    Erro = Erro_Azul + Erro_Verm = 0 + 1 = 1\n",
        "\n",
        "*   SVC (polynomial degree 3 kernel)\n",
        "\n",
        "    Erro = Erro_Azul + Erro_Verm = 0 + 0 = 0"
      ],
      "metadata": {
        "id": "8OTpf55XM_FC"
      }
    },
    {
      "cell_type": "markdown",
      "source": [
        "### b)\n"
      ],
      "metadata": {
        "id": "R46zVB2xgNwU"
      }
    },
    {
      "cell_type": "markdown",
      "source": [
        "\n",
        "Não há como generalizar qual SVM sempre será melhor, entretanto para os dados utilizados, entretanto a SVM com um kernel polinomial de grau 3 apresentou menor erro e, portanto, é a melhor SVC para ser selecionada."
      ],
      "metadata": {
        "id": "AELpPW8bNB2M"
      }
    },
    {
      "cell_type": "markdown",
      "source": [
        "## Questão 2 sobre regularização:\n",
        "\n"
      ],
      "metadata": {
        "id": "J3MJCiASUVH_"
      }
    },
    {
      "cell_type": "markdown",
      "source": [
        "Aumentar o parâmetro C, dado que os  vetores de suporte são os pontos de dados que estão mais próximos da fronteira de decisão do modelo SVM. E que ajudam a formar a fronteira de decisão, um número maior de vetores de suporte significa que a fronteira de decisão será mais complexa, levando a uma melhor precisão do modelo, porém se aumentarmos demais o parâmetro C corre-se o risco de overfitting"
      ],
      "metadata": {
        "id": "rIMYZUNhM8rJ"
      }
    },
    {
      "cell_type": "markdown",
      "source": [
        "## Questão 3\n"
      ],
      "metadata": {
        "id": "IoxvpSIsifeK"
      }
    },
    {
      "cell_type": "markdown",
      "source": [
        "> O custo computacional de teste de uma SVM linear (C_LSVM) pode ser calculado por:\n",
        "\n",
        "    C_LSVM = N * (K^2 + K - 1)\n",
        "\n",
        ">  Sendo:\n",
        "*   N: o número de vetores de suporte\n",
        "*   K: o número de features\n",
        "\n",
        ">Portanto:\n",
        "\n",
        "    C_LSVM = 450 * (5^2 + 5 - 1)\n",
        "    C_LSVM = 13050\n",
        "\n",
        "> Para calcular o custo computacional de teste de um Perceptron dessa SVM Linear:\n",
        "\n",
        "    C_Perceptron = N * (K + 1)\n",
        "\n",
        ">  Sendo:\n",
        "*   N: o número de vetores de suporte\n",
        "*   K: o número de features\n",
        "\n",
        ">Logo:\n",
        "\n",
        "    C_Perceptron = 450 * (5 + 1)\n",
        "    C_Perceptron = 2700\n",
        "\n",
        ">Portanto, o fator F de redução do custo computacional será:\n",
        "\n",
        "    F = C_LSVM / C_Perceptron\n",
        "    F = 13050 / 2700\n",
        "    F = 4,8333"
      ],
      "metadata": {
        "id": "rd66Iz3zM6HJ"
      }
    },
    {
      "cell_type": "code",
      "source": [
        "def calcular_custo_svm(k, n):\n",
        "  return n * (k**2 + k - 1)\n",
        "\n",
        "def calcular_custo_perceptron(k, n):\n",
        "  return n * (k + 1)\n",
        "\n",
        "\n",
        "k = 5\n",
        "n = 450\n",
        "\n",
        "custo_svm = calcular_custo_svm(k, n)\n",
        "custo_perceptron = calcular_custo_perceptron(k, n)\n",
        "\n",
        "fator_reducao = custo_svm / custo_perceptron\n",
        "\n",
        "print(f\"Custo original: {custo_svm}\")\n",
        "print(f\"Custo perceptron: {custo_perceptron}\")\n",
        "print(f\"Fator de redução: {fator_reducao}\")"
      ],
      "metadata": {
        "colab": {
          "base_uri": "https://localhost:8080/"
        },
        "id": "ixCBw2TNOUy3",
        "outputId": "1920fd67-7471-4560-b5da-459bcee381f8"
      },
      "execution_count": null,
      "outputs": [
        {
          "output_type": "stream",
          "name": "stdout",
          "text": [
            "Custo original: 13050\n",
            "Custo perceptron: 2700\n",
            "Fator de redução: 4.833333333333333\n"
          ]
        }
      ]
    },
    {
      "cell_type": "markdown",
      "source": [
        "## Questão 4\n"
      ],
      "metadata": {
        "id": "yV_5CuHZM0rZ"
      }
    },
    {
      "cell_type": "markdown",
      "source": [
        "### a)"
      ],
      "metadata": {
        "id": "MvgB9sohNEjB"
      }
    },
    {
      "cell_type": "markdown",
      "source": [
        ">$f(z) = (\\sum_{n=0}^{N-1}\\lambda_n*K(z, x_n)) + b$\n",
        "\n",
        "$\\lambda = [-0.5,0.3,0.8]$\n",
        "\n",
        "$x_n = [[1,4],[-2, 3],[-2, -5]]$\n",
        "\n",
        "$b = -2$\n",
        "\n",
        "$f(z) = (-0.5*k(z, [1, 4]) - 0.3*k(z, [-2, 3]) + 0.8*k(z, [-2, -5])) - 2$"
      ],
      "metadata": {
        "id": "T-09aJL5W8Zz"
      }
    },
    {
      "cell_type": "markdown",
      "source": [
        "### b)"
      ],
      "metadata": {
        "id": "gsfE9EUfW-g3"
      }
    },
    {
      "cell_type": "markdown",
      "source": [
        ">$f(z) = <z, w> + b$\n",
        "\n",
        "$w = \\sum_{i=1}^{N} \\lambda_i*x_i$\n",
        "\n",
        "$w = (-0.5)*[1,4] + (-0.3)*[-2, 3] + 0.8*[-2, -5]$\n",
        "\n",
        "$w = [-1.5, -6.9]$\n",
        "\n",
        "$b = -2$\n",
        "\n",
        ">$f(z) = <z, [-1.5, -6.9]> - 2$"
      ],
      "metadata": {
        "id": "bVK4dL0WXAEk"
      }
    },
    {
      "cell_type": "markdown",
      "source": [
        "### c)"
      ],
      "metadata": {
        "id": "Nd4fBDrAqgAr"
      }
    },
    {
      "cell_type": "markdown",
      "source": [
        "Utilizando como base o Perceptron:\n",
        "\n",
        ">$f(z) = <z, [-1.5, -6.9]> - 2$\n",
        "\n",
        "Para $z = [0, 0]$, temos:\n",
        "\n",
        "$f(z) = <[0, 0], [-1.5, -6.9]> - 2$\n",
        "\n",
        "$f(z) =  (0*(-1.5) + 0*(-6.9)) - 2 = -2$\n",
        "\n",
        "$f(z) = -2$\n",
        "\n",
        ">Como $f(z)>0$ é falso, então $y = I(f(z)>0) = 0$"
      ],
      "metadata": {
        "id": "Su-VVNzfqjOo"
      }
    },
    {
      "cell_type": "markdown",
      "source": [
        "## Questão 5"
      ],
      "metadata": {
        "id": "9E2GNZdTs1hN"
      }
    },
    {
      "cell_type": "markdown",
      "source": [],
      "metadata": {
        "id": "dsATOv0ns4uF"
      }
    },
    {
      "cell_type": "code",
      "source": [
        "'''\n",
        "Adapted from https://scikit-learn.org/stable/auto_examples/svm/plot_iris_svc.html#sphx-glr-auto-examples-svm-plot-iris-svc-py\n",
        "'''\n",
        "print(__doc__)\n",
        "\n",
        "import numpy as np\n",
        "import matplotlib.pyplot as plt\n",
        "from sklearn import svm\n",
        "\n",
        "'''\n",
        "Here I will adopt the simple approach of dividing the first\n",
        "feature by 1000, but the professional normalization is obtained\n",
        "with code such as:\n",
        "https://scikit-learn.org/stable/modules/preprocessing.html\n",
        "'''\n",
        "def load_train_dataset_and_normalize_first_feature():\n",
        "    #from numpy import genfromtxt\n",
        "    my_data = np.genfromtxt('dataset_train.txt', delimiter=',')\n",
        "    X = my_data[:,:2] # fish length and weight\n",
        "    X[:,0] = X[:,0]/1000.0 #simple normalization\n",
        "    y = np.ravel(my_data[:,2:],order='C') #convert column vector into 1D array\n",
        "    feature_names = ('Length', 'Weight') #x and y\n",
        "    print('Normalized training set:')\n",
        "    print(X)\n",
        "    return X,y,feature_names\n",
        "\n",
        "def convert_linear_SVM_to_perceptron(support_vectors, dual_coef):\n",
        "    dual_coef = np.ravel(dual_coef,order='C') #convert to a 1D vector\n",
        "    num_support_vectors = len(dual_coef)\n",
        "    if support_vectors.shape[0] != num_support_vectors:\n",
        "        raise Exception('support_vectors.shape[0] != num_support_vectors')\n",
        "    input_space_dimension = support_vectors.shape[1]\n",
        "    perceptron_weights = np.zeros((input_space_dimension))\n",
        "    for sv in range(num_support_vectors):\n",
        "        perceptron_weights += dual_coef[sv] * support_vectors[sv]\n",
        "    return perceptron_weights\n",
        "\n",
        "def calculate_intercept(perceptron_weights,support_vectors,support_vector_indices,labels):\n",
        "    '''\n",
        "    https://stats.stackexchange.com/questions/211310/deriving-the-intercept-term-in-a-linearly-separable-and-soft-margin-svm\n",
        "    '''\n",
        "    num_support_vectors = support_vectors.shape[0]\n",
        "    #input_space_dimension = support_vectors.shape[1]\n",
        "    max_negative = -1e30\n",
        "    min_positive = 1e30\n",
        "    for i in range(num_support_vectors):\n",
        "        #note that labels has all training examples, not only support vectors,\n",
        "        #so use support_vector_indices to get the proper index in training set\n",
        "        this_label = labels[support_vector_indices[i]]\n",
        "        this_inner_product = np.inner(perceptron_weights, support_vectors[i])\n",
        "        if this_label > 0:\n",
        "            if this_inner_product < min_positive:\n",
        "                min_positive = this_inner_product\n",
        "        else:\n",
        "            if this_inner_product > max_negative:\n",
        "                max_negative = this_inner_product\n",
        "    return -(max_negative+min_positive)/2.0\n",
        "\n",
        "def make_meshgrid(x, y, h=.02):\n",
        "    \"\"\"Create a mesh of points to plot in\n",
        "\n",
        "    Parameters\n",
        "    ----------\n",
        "    x: data to base x-axis meshgrid on\n",
        "    y: data to base y-axis meshgrid on\n",
        "    h: stepsize for meshgrid, optional\n",
        "\n",
        "    Returns\n",
        "    -------\n",
        "    xx, yy : ndarray\n",
        "    \"\"\"\n",
        "    x_min, x_max = x.min() - 1, x.max() + 1\n",
        "    y_min, y_max = y.min() - 1, y.max() + 1\n",
        "    xx, yy = np.meshgrid(np.arange(x_min, x_max, h),\n",
        "                         np.arange(y_min, y_max, h))\n",
        "    return xx, yy\n",
        "\n",
        "def plot_contours(ax, clf, xx, yy, **params):\n",
        "    \"\"\"Plot the decision boundaries for a classifier.\n",
        "\n",
        "    Parameters\n",
        "    ----------\n",
        "    ax: matplotlib axes object\n",
        "    clf: a classifier\n",
        "    xx: meshgrid ndarray\n",
        "    yy: meshgrid ndarray\n",
        "    params: dictionary of params to pass to contourf, optional\n",
        "    \"\"\"\n",
        "    Z = clf.predict(np.c_[xx.ravel(), yy.ravel()])\n",
        "    Z = Z.reshape(xx.shape)\n",
        "    out = ax.contourf(xx, yy, Z, **params)\n",
        "    return out\n",
        "\n",
        "np.random.seed(30) #reproducible experiments\n",
        "\n",
        "#Choose here the dataset:\n",
        "X,y,feature_names = load_train_dataset_and_normalize_first_feature()\n",
        "\n",
        "# we create an instance of SVM and fit out data. We do not scale our\n",
        "# data since we want to plot the support vectors\n",
        "C = 1  # SVM regularization parameter\n",
        "\n",
        "linear_svc = svm.LinearSVC(C=C, max_iter=int(1e4), dual=True, tol=1e-10)\n",
        "svc_with_linear_kernel = svm.SVC(kernel='linear', C=C, verbose=1, shrinking=False)\n",
        "rbf_svm = svm.SVC(kernel='rbf', gamma=0.7, C=C) #RBF also called Gaussian\n",
        "polynomial_svm = svm.SVC(kernel='poly', degree=3, gamma='auto', C=C, coef0=0)\n",
        "\n",
        "print('#### 1) Linear SVM with LinearSVC #####')\n",
        "#This is restricted to linear SVMs. It does not return the support vectors but the primal perceptron\n",
        "linear_svc.fit(X,y) #https://scikit-learn.org/stable/modules/generated/sklearn.svm.LinearSVC.html\n",
        "print('linear_svc.coef_=',linear_svc.coef_)\n",
        "print('linear_svc.intercept_=',linear_svc.intercept_)\n",
        "#print(linear_svc.offset_)\n",
        "svm_scores = np.zeros((4,))\n",
        "svm_scores[0] = linear_svc.score(X,y)\n",
        "\n",
        "#These are generic SVMs\n",
        "#https://scikit-learn.org/stable/modules/generated/sklearn.svm.SVC.html#sklearn.svm.SVC\n",
        "svc_with_linear_kernel.fit(X,y)\n",
        "rbf_svm.fit(X,y)\n",
        "polynomial_svm.fit(X,y)\n",
        "\n",
        "tuple_of_svms = (svc_with_linear_kernel, rbf_svm, polynomial_svm)\n",
        "\n",
        "print('\\n\\n#### Generic SVMs with SVC #####')\n",
        "for i in range(3):\n",
        "    svm = tuple_of_svms[i]\n",
        "    print('#### ', str(i+2), ') SVM with SVC ####\\n', svm.get_params())\n",
        "    print('svm.n_support_=',svm.n_support_) #Number of support vectors for each class.\n",
        "    print('svm.support_=',svm.support_) #Indices of support vectors\n",
        "    print('svm.support_vectors_=',svm.support_vectors_) #the support vectors\n",
        "    print('svm.dual_coef_=',svm.dual_coef_) #lambdas\n",
        "    print('svc.intercept_=',svm.intercept_) #bias\n",
        "    decisions = svm.decision_function(X)\n",
        "    if len(decisions) > 10: #don't show too many numbers\n",
        "        decisions = decisions[:10]\n",
        "    print('At most 10 decisions: svm.decision_function(X)=',decisions)\n",
        "    svm_scores[i+1] = svm.score(X,y)\n",
        "    print('Accuracy via svm.score(X,y)=',svm_scores[i])\n",
        "    #SVC has parameter gamma for polynomial and RBF kernels\n",
        "    print('Gamma=', svm._gamma) #gamma indicates \"auto\" and other input options, while _gamma indicates the value\n",
        "    if i == 0: #print(svm.coef_) #cannot be used with non-linear SVMs\n",
        "        print('svc_with_linear_kernel.coef_=',svm.coef_)\n",
        "        #print('linear_svc.intercept_=',svm.intercept_)\n",
        "        perceptron_weights = convert_linear_SVM_to_perceptron(svm.support_vectors_, svm.dual_coef_)\n",
        "        print('Estimated perceptron_weights=', perceptron_weights)\n",
        "        bias = calculate_intercept(perceptron_weights,svm.support_vectors_,svm.support_,y)\n",
        "        print('Estimated bias=', bias)\n",
        "\n",
        "\n",
        "#Plot:\n",
        "models = (linear_svc, svc_with_linear_kernel, rbf_svm, polynomial_svm)\n",
        "\n",
        "# title for the plots\n",
        "titles = ('LinearSVC (linear kernel)',\n",
        "        'SVC with linear kernel',\n",
        "        'SVC with RBF kernel',\n",
        "        'SVC with polynomial (degree 3) kernel')\n",
        "\n",
        "# Set-up 2x2 grid for plotting.\n",
        "fig, sub = plt.subplots(2, 2)\n",
        "plt.subplots_adjust(wspace=0.4, hspace=0.4)\n",
        "\n",
        "X0, X1 = X[:, 0], X[:, 1]\n",
        "xx, yy = make_meshgrid(X0, X1)\n",
        "\n",
        "for clf, title, ax in zip(models, titles, sub.flatten()):\n",
        "    plot_contours(ax, clf, xx, yy,\n",
        "                  cmap=plt.cm.coolwarm, alpha=0.8)\n",
        "    ax.scatter(X0, X1, c=y, cmap=plt.cm.coolwarm, s=20, edgecolors='k')\n",
        "    ax.set_xlim(xx.min(), xx.max())\n",
        "    ax.set_ylim(yy.min(), yy.max())\n",
        "    #ax.set_xlabel(feature_names[0])\n",
        "    #ax.set_ylabel(feature_names[1])\n",
        "    #ax.set_xticks(())\n",
        "    #ax.set_yticks(())\n",
        "    ax.set_title(title)\n",
        "\n",
        "print(\"######################## Summary ########################\")\n",
        "print(titles,'have accuracies:')\n",
        "print('svm_scores=',svm_scores)\n",
        "plt.show()"
      ],
      "metadata": {
        "colab": {
          "base_uri": "https://localhost:8080/",
          "height": 1000
        },
        "id": "nPipNd1MwpxH",
        "outputId": "07f421af-3954-43f9-e8b2-24c9747d9f66"
      },
      "execution_count": null,
      "outputs": [
        {
          "output_type": "stream",
          "name": "stdout",
          "text": [
            "\n",
            "Adapted from https://scikit-learn.org/stable/auto_examples/svm/plot_iris_svc.html#sphx-glr-auto-examples-svm-plot-iris-svc-py\n",
            "\n",
            "Normalized training set:\n",
            "[[ 0. -4.]\n",
            " [-1.  2.]\n",
            " [ 3.  3.]\n",
            " [-5. -6.]\n",
            " [-4. -5.]\n",
            " [-2. -2.]]\n",
            "#### 1) Linear SVM with LinearSVC #####\n",
            "linear_svc.coef_= [[-0.68611287 -0.10653139]]\n",
            "linear_svc.intercept_= [-0.99556119]\n",
            "[LibSVM]\n",
            "\n",
            "#### Generic SVMs with SVC #####\n",
            "####  2 ) SVM with SVC ####\n",
            " {'C': 1, 'break_ties': False, 'cache_size': 200, 'class_weight': None, 'coef0': 0.0, 'decision_function_shape': 'ovr', 'degree': 3, 'gamma': 'scale', 'kernel': 'linear', 'max_iter': -1, 'probability': False, 'random_state': None, 'shrinking': False, 'tol': 0.001, 'verbose': 1}\n",
            "svm.n_support_= [2 1]\n",
            "svm.support_= [0 1 5]\n",
            "svm.support_vectors_= [[ 0. -4.]\n",
            " [-1.  2.]\n",
            " [-2. -2.]]\n",
            "svm.dual_coef_= [[-0.45994152 -0.27992202  0.73986354]]\n",
            "svc.intercept_= [-1.79954513]\n",
            "At most 10 decisions: svm.decision_function(X)= [-1.00032491 -0.99935019 -5.99837547  5.39831049  3.99870038  0.99967509]\n",
            "Accuracy via svm.score(X,y)= 1.0\n",
            "Gamma= 0.053452115812917596\n",
            "svc_with_linear_kernel.coef_= [[-1.19980506 -0.19980506]]\n",
            "Estimated perceptron_weights= [-1.19980506 -0.19980506]\n",
            "Estimated bias= -1.7997075844389612\n",
            "####  3 ) SVM with SVC ####\n",
            " {'C': 1, 'break_ties': False, 'cache_size': 200, 'class_weight': None, 'coef0': 0.0, 'decision_function_shape': 'ovr', 'degree': 3, 'gamma': 0.7, 'kernel': 'rbf', 'max_iter': -1, 'probability': False, 'random_state': None, 'shrinking': True, 'tol': 0.001, 'verbose': False}\n",
            "svm.n_support_= [3 3]\n",
            "svm.support_= [0 1 2 3 4 5]\n",
            "svm.support_vectors_= [[ 0. -4.]\n",
            " [-1.  2.]\n",
            " [ 3.  3.]\n",
            " [-5. -6.]\n",
            " [-4. -5.]\n",
            " [-2. -2.]]\n",
            "svm.dual_coef_= [[-0.91722233 -0.91351914 -0.91300432  0.87185969  0.8718861   1.        ]]\n",
            "svc.intercept_= [-0.08676121]\n",
            "At most 10 decisions: svm.decision_function(X)= [-1.00027976 -1.00027976 -0.99977173  1.00010297  1.00022828  0.90993821]\n",
            "Accuracy via svm.score(X,y)= 1.0\n",
            "Gamma= 0.7\n",
            "####  4 ) SVM with SVC ####\n",
            " {'C': 1, 'break_ties': False, 'cache_size': 200, 'class_weight': None, 'coef0': 0, 'decision_function_shape': 'ovr', 'degree': 3, 'gamma': 'auto', 'kernel': 'poly', 'max_iter': -1, 'probability': False, 'random_state': None, 'shrinking': True, 'tol': 0.001, 'verbose': False}\n",
            "svm.n_support_= [2 1]\n",
            "svm.support_= [0 1 5]\n",
            "svm.support_vectors_= [[ 0. -4.]\n",
            " [-1.  2.]\n",
            " [-2. -2.]]\n",
            "svm.dual_coef_= [[-0.00887134 -0.03133903  0.04021037]]\n",
            "svc.intercept_= [-1.03731897]\n",
            "At most 10 decisions: svm.decision_function(X)= [-1.00028193 -0.99943614 -7.91231897 38.49667194 20.25085641  0.99971807]\n",
            "Accuracy via svm.score(X,y)= 1.0\n",
            "Gamma= 0.5\n",
            "######################## Summary ########################\n",
            "('LinearSVC (linear kernel)', 'SVC with linear kernel', 'SVC with RBF kernel', 'SVC with polynomial (degree 3) kernel') have accuracies:\n",
            "svm_scores= [1. 1. 1. 1.]\n"
          ]
        },
        {
          "output_type": "display_data",
          "data": {
            "text/plain": [
              "<Figure size 640x480 with 4 Axes>"
            ],
            "image/png": "[encoded data removed]"
          },
          "metadata": {}
        }
      ]
    },
    {
      "cell_type": "markdown",
      "source": [
        "### a)"
      ],
      "metadata": {
        "id": "dxrVXJbYzPCX"
      }
    },
    {
      "cell_type": "markdown",
      "source": [
        ">SVM 2:\n",
        "\n",
        "$f(z) = (\\sum_{n=0}^{N-1}\\lambda_n*K(z, x_n)) + b$\n",
        "\n",
        "$\\lambda = [-0.45994152, -0.27992202,  0.73986354]$\n",
        "\n",
        "$x_n = [[ 0, -4], [-1,  2], [-2, -2]]$\n",
        "\n",
        "$b = -0.99556119$\n",
        "\n",
        "$f(z) = (-0.45994152*k(z, [ 0, -4]) - 0.27992202*k(z, [-1,  2]) + 0.73986354*k(z, [-2, -2])) - 0.99556119$\n",
        "\n",
        "---\n",
        "\n",
        ">SVM 3:\n",
        "\n",
        "$f(z) = (\\sum_{n=0}^{N-1}\\lambda_n*K(z, x_n)) + b$\n",
        "\n",
        "$\\lambda = [-0.91722233, -0.91351914, -0.91300432,  0.87185969,  0.8718861,   1]$\n",
        "\n",
        "$x_n = [[ 0, -4], [-1,  2], [ 3,  3], [-5, -6], [-4, -5,], [-2, -2,]]$\n",
        "\n",
        "$b = -0.08676121$\n",
        "\n",
        "$f(z) = (-0.91722233*k(z, [ 0, -4]) -0.91351914*k(z, [-1,  2]) -0.91300432*k(z, [ 3,  3]) + 0.87185969*k(z, [-5, -6]) + 0.8718861*k(z, [-4, -5,]) + 1*k(z, [-2, -2])) - 0.08676121$\n",
        "\n",
        "---\n",
        "\n",
        ">SVM 4:\n",
        "\n",
        "$f(z) = (\\sum_{n=0}^{N-1}\\lambda_n*K(z, x_n)) + b$\n",
        "\n",
        "$\\lambda = [-0.00887134, -0.03133903, 0.04021037]$\n",
        "\n",
        "$x_n = [[ 0, -4], [-1,  2], [-2, -2]]$\n",
        "\n",
        "$b = -1.03731897$\n",
        "\n",
        "$f(z) = (-0.00887134,*k(z, [ 0, -4]) -0.03133903*k(z, [-1,  2]) + 0.04021037*k(z, [-2, -2])) - 1.03731897$"
      ],
      "metadata": {
        "id": "exaPIA0nzShI"
      }
    },
    {
      "cell_type": "markdown",
      "source": [
        "### b)"
      ],
      "metadata": {
        "id": "g07wC67vwZy_"
      }
    },
    {
      "cell_type": "markdown",
      "source": [
        ">SVM 1:  $f(z)=<z,w>+b$\n",
        "\n",
        "$w = [-0.68611287, -0.10653139]$\n",
        "\n",
        "$b = -0.99556119$\n",
        "\n",
        "$f(z)=<z,[-0.68611287, -0.10653139]> - 0.99556119$\n",
        "\n",
        "---\n",
        "\n",
        ">SVM 2:  $f(z)=<z,w>+b$\n",
        "\n",
        "$\\lambda = [-0.45994152, -0.27992202,  0.73986354]$\n",
        "\n",
        "$x_n = [[ 0, -4], [-1,  2], [-2, -2]]$\n",
        "\n",
        "$w = \\sum_{i=1}^{N} \\lambda_i*x_i$\n",
        "\n",
        "$w = (-0.45994152)*[0, -4] + (-0.27992202)*[-1,  2] + 0.73986354*[-2, -2]$\n",
        "\n",
        "$w = [−1,19980506, −0,19980504]$\n",
        "\n",
        "$b = -0.99556119$\n",
        "\n",
        "$f(z)=<z,[−1,19980506, −0,19980504]> - 0.99556119$"
      ],
      "metadata": {
        "id": "x2NdMpgbwbs2"
      }
    },
    {
      "cell_type": "markdown",
      "source": [
        "### c)\n"
      ],
      "metadata": {
        "id": "MvGVpWmG7PY8"
      }
    },
    {
      "cell_type": "markdown",
      "source": [
        "\n",
        "\n",
        "*   1º passo: Identificar os vetores de suporte $x_n = [0, -4][-1, 2][-2, -2]$ e seus respectivos $\\lambda = [-0.46, -0.28, 0.74]$ e $b = -1.8$ aproximados.\n",
        "*   2º passo: Escrever para o formato geral utilizando utilizando os dados obtidos no primeiro passo e o kernel linear: $f(z) =  -0.46<z,[0, -4]> -0.28<z,[-1, 2]> +0.74<z,[-2, -2]> -1.8$\n",
        "*   3º passo: Converter a forma geral para um perceptron utilizando as propriedades da linearidade colocando z em evidência e obtendo um novo vetor w e somando o bias ao final de tudo tem-se então: $f(z) =  <z,[-1.2, -0,2]> -1.8$\n",
        "*   Em questões de custo operacional a forma geral possui 15 operações enquanto o perceptron possui apenas 4 operações.\n",
        "\n",
        "\n",
        "\n",
        "\n",
        "\n"
      ],
      "metadata": {
        "id": "pblCV3dF7SaL"
      }
    },
    {
      "cell_type": "markdown",
      "source": [
        "### d)"
      ],
      "metadata": {
        "id": "IUX3pHnC8EAj"
      }
    },
    {
      "cell_type": "markdown",
      "source": [
        "d.1)\n",
        "\n",
        ">SVM 3 possui 6 vetores de suporte: 3 para classe 0 e 3 para classe 1.\n",
        "\n",
        ">SVM 4 possui 3 vetores de suporte: 2 para classe 0 e 1 parra classe 1."
      ],
      "metadata": {
        "id": "G72q17248HNL"
      }
    },
    {
      "cell_type": "markdown",
      "source": [
        "d.2)\n",
        "\n",
        ">SVM 3:\n",
        "\n",
        "$\\lambda = [-0.91722233, -0.91351914, -0.91300432,  0.87185969,  0.8718861,   1]$\n",
        "\n",
        "$x_n = [[ 0, -4], [-1,  2], [ 3,  3], [-5, -6], [-4, -5,], [-2, -2,]]$\n",
        "\n",
        "---\n",
        "\n",
        "> SVM 4:\n",
        "\n",
        "$\\lambda = [-0.00887134, -0.03133903, 0.04021037]$\n",
        "\n",
        "$x_n = [[ 0, -4], [-1,  2], [-2, -2]]$"
      ],
      "metadata": {
        "id": "wHft8OA28Jub"
      }
    },
    {
      "cell_type": "markdown",
      "source": [
        "d.3)\n",
        "\n",
        "> SVM 3:\n",
        "\n",
        "$b = -0.08676121$\n",
        "\n",
        "---\n",
        "\n",
        "> SVM 4:\n",
        "\n",
        "$b = -1.03731897$"
      ],
      "metadata": {
        "id": "mkPPmKV08KtL"
      }
    },
    {
      "cell_type": "markdown",
      "source": [
        "### e)"
      ],
      "metadata": {
        "id": "gM0TeR78AKiZ"
      }
    },
    {
      "cell_type": "markdown",
      "source": [
        "Dada a svm.decision_function(X)podemos observar que o valor absoluto mais baixo é aproximadamente 0.90993821. Isso significa que este exemplo é o menos \"confiante\" em sua decisão, pois tem o menor valor absoluto entre os scores."
      ],
      "metadata": {
        "id": "PGHB6ZFSAMyv"
      }
    },
    {
      "cell_type": "markdown",
      "source": [
        "## Questão 6 - Use o scikit-learn para treinar uma SVM com kernel linear, usando hiperparâmetro: C=1."
      ],
      "metadata": {
        "id": "uKCPa-8vkvTa"
      }
    },
    {
      "cell_type": "code",
      "source": [
        "import numpy as np\n",
        "from sklearn.svm import SVC\n",
        "# Definindo os conjuntos de dados de acordo com o dataset_train.txt.\n",
        "X_train = [(0,-4),(-1000,2),(3000,3),(-5000,-6),(-4000,-5),(-2000,2)]\n",
        "Y_train = [0,0,0,1,1,1]\n",
        "\n",
        "X_test = [(1000,-2),(-1000,0),(-6000,-2),(-5000,-2)]\n",
        "Y_test = [0,0,1,1]\n",
        "\n",
        "mean_train = np.mean(X_train, axis=0)\n",
        "std_train = np.std(X_train, axis=0)\n",
        "\n",
        "#normalizando o conjunto X_train e X _test\n",
        "X_train_normalized = (X_train - mean_train)/std_train\n",
        "X_test_normalized = (X_test - mean_train)/std_train\n",
        "\n",
        "#1) Treinar uma SVM com kernel linear (C=1) usando a versão normalizada dos dados:\n",
        "\n",
        "#criando e treinando a SVM com Kernel linear\n",
        "svm = SVC(kernel='linear', C=1)\n",
        "svm.fit(X_train_normalized, Y_train)"
      ],
      "metadata": {
        "id": "JQG4T_64k1LW",
        "colab": {
          "base_uri": "https://localhost:8080/",
          "height": 74
        },
        "outputId": "1c28287a-e5c0-4cf7-f4d8-6fb4ad06b7c1"
      },
      "execution_count": null,
      "outputs": [
        {
          "output_type": "execute_result",
          "data": {
            "text/plain": [
              "SVC(C=1, kernel='linear')"
            ],
            "text/html": [
              "<style>#sk-container-id-9 {color: black;background-color: white;}#sk-container-id-9 pre{padding: 0;}#sk-container-id-9 div.sk-toggleable {background-color: white;}#sk-container-id-9 label.sk-toggleable__label {cursor: pointer;display: block;width: 100%;margin-bottom: 0;padding: 0.3em;box-sizing: border-box;text-align: center;}#sk-container-id-9 label.sk-toggleable__label-arrow:before {content: \"▸\";float: left;margin-right: 0.25em;color: #696969;}#sk-container-id-9 label.sk-toggleable__label-arrow:hover:before {color: black;}#sk-container-id-9 div.sk-estimator:hover label.sk-toggleable__label-arrow:before {color: black;}#sk-container-id-9 div.sk-toggleable__content {max-height: 0;max-width: 0;overflow: hidden;text-align: left;background-color: #f0f8ff;}#sk-container-id-9 div.sk-toggleable__content pre {margin: 0.2em;color: black;border-radius: 0.25em;background-color: #f0f8ff;}#sk-container-id-9 input.sk-toggleable__control:checked~div.sk-toggleable__content {max-height: 200px;max-width: 100%;overflow: auto;}#sk-container-id-9 input.sk-toggleable__control:checked~label.sk-toggleable__label-arrow:before {content: \"▾\";}#sk-container-id-9 div.sk-estimator input.sk-toggleable__control:checked~label.sk-toggleable__label {background-color: #d4ebff;}#sk-container-id-9 div.sk-label input.sk-toggleable__control:checked~label.sk-toggleable__label {background-color: #d4ebff;}#sk-container-id-9 input.sk-hidden--visually {border: 0;clip: rect(1px 1px 1px 1px);clip: rect(1px, 1px, 1px, 1px);height: 1px;margin: -1px;overflow: hidden;padding: 0;position: absolute;width: 1px;}#sk-container-id-9 div.sk-estimator {font-family: monospace;background-color: #f0f8ff;border: 1px dotted black;border-radius: 0.25em;box-sizing: border-box;margin-bottom: 0.5em;}#sk-container-id-9 div.sk-estimator:hover {background-color: #d4ebff;}#sk-container-id-9 div.sk-parallel-item::after {content: \"\";width: 100%;border-bottom: 1px solid gray;flex-grow: 1;}#sk-container-id-9 div.sk-label:hover label.sk-toggleable__label {background-color: #d4ebff;}#sk-container-id-9 div.sk-serial::before {content: \"\";position: absolute;border-left: 1px solid gray;box-sizing: border-box;top: 0;bottom: 0;left: 50%;z-index: 0;}#sk-container-id-9 div.sk-serial {display: flex;flex-direction: column;align-items: center;background-color: white;padding-right: 0.2em;padding-left: 0.2em;position: relative;}#sk-container-id-9 div.sk-item {position: relative;z-index: 1;}#sk-container-id-9 div.sk-parallel {display: flex;align-items: stretch;justify-content: center;background-color: white;position: relative;}#sk-container-id-9 div.sk-item::before, #sk-container-id-9 div.sk-parallel-item::before {content: \"\";position: absolute;border-left: 1px solid gray;box-sizing: border-box;top: 0;bottom: 0;left: 50%;z-index: -1;}#sk-container-id-9 div.sk-parallel-item {display: flex;flex-direction: column;z-index: 1;position: relative;background-color: white;}#sk-container-id-9 div.sk-parallel-item:first-child::after {align-self: flex-end;width: 50%;}#sk-container-id-9 div.sk-parallel-item:last-child::after {align-self: flex-start;width: 50%;}#sk-container-id-9 div.sk-parallel-item:only-child::after {width: 0;}#sk-container-id-9 div.sk-dashed-wrapped {border: 1px dashed gray;margin: 0 0.4em 0.5em 0.4em;box-sizing: border-box;padding-bottom: 0.4em;background-color: white;}#sk-container-id-9 div.sk-label label {font-family: monospace;font-weight: bold;display: inline-block;line-height: 1.2em;}#sk-container-id-9 div.sk-label-container {text-align: center;}#sk-container-id-9 div.sk-container {/* jupyter's `normalize.less` sets `[hidden] { display: none; }` but bootstrap.min.css set `[hidden] { display: none !important; }` so we also need the `!important` here to be able to override the default hidden behavior on the sphinx rendered scikit-learn.org. See: https://github.com/scikit-learn/scikit-learn/issues/21755 */display: inline-block !important;position: relative;}#sk-container-id-9 div.sk-text-repr-fallback {display: none;}</style><div id=\"sk-container-id-9\" class=\"sk-top-container\"><div class=\"sk-text-repr-fallback\"><pre>SVC(C=1, kernel=&#x27;linear&#x27;)</pre><b>In a Jupyter environment, please rerun this cell to show the HTML representation or trust the notebook. <br />On GitHub, the HTML representation is unable to render, please try loading this page with nbviewer.org.</b></div><div class=\"sk-container\" hidden><div class=\"sk-item\"><div class=\"sk-estimator sk-toggleable\"><input class=\"sk-toggleable__control sk-hidden--visually\" id=\"sk-estimator-id-9\" type=\"checkbox\" checked><label for=\"sk-estimator-id-9\" class=\"sk-toggleable__label sk-toggleable__label-arrow\">SVC</label><div class=\"sk-toggleable__content\"><pre>SVC(C=1, kernel=&#x27;linear&#x27;)</pre></div></div></div></div></div>"
            ]
          },
          "metadata": {},
          "execution_count": 23
        }
      ]
    },
    {
      "cell_type": "code",
      "source": [
        "#2) Avaliar o desempenho no conjunto de teste:\n",
        "accuracy = svm.score(X_test_normalized, Y_test)\n",
        "print(f'Acurácia do conjunto de teste: {accuracy*100: .2f}%')"
      ],
      "metadata": {
        "colab": {
          "base_uri": "https://localhost:8080/"
        },
        "id": "KDM7X2M9Hl9W",
        "outputId": "eb943f25-82c1-4a49-a652-9e84b16e1178"
      },
      "execution_count": null,
      "outputs": [
        {
          "output_type": "stream",
          "name": "stdout",
          "text": [
            "Acurácia do conjunto de teste:  100.00%\n"
          ]
        }
      ]
    },
    {
      "cell_type": "code",
      "source": [
        "#3) Implementação de um perceptron\n",
        "\n",
        "class Perceptron:\n",
        "    def __init__(self):\n",
        "        self.weights = None\n",
        "\n",
        "    def train(self, X, y, epochs=100, learning_rate=0.01):\n",
        "        n_samples, n_features = X.shape\n",
        "        self.weights = np.zeros(n_features)\n",
        "        for _ in range(epochs):\n",
        "            for i in range(n_samples):\n",
        "                prediction = np.dot(X[i], self.weights)\n",
        "                if y[i]*prediction <= 0:\n",
        "                    self.weights += learning_rate * y[i] * X[i]\n",
        "\n",
        "    def predict(self, X):\n",
        "        return np.sign(np.dot(X, self.weights))\n",
        "\n",
        "# Treinando o perceptron\n",
        "perceptron = Perceptron()\n",
        "perceptron.train(X_train_normalized, Y_train)\n",
        "\n",
        "# Avaliando o desempenho no conjunto de teste\n",
        "accuracy_perceptron = np.mean(perceptron.predict(X_test_normalized) == Y_test)\n",
        "print(f'Acurácia do perceptron no conjunto de teste: {accuracy_perceptron*100:.2f}%')\n"
      ],
      "metadata": {
        "colab": {
          "base_uri": "https://localhost:8080/"
        },
        "id": "U-aev_lmIK_F",
        "outputId": "830b2960-f7b9-48b8-c21b-4294aa79f97e"
      },
      "execution_count": null,
      "outputs": [
        {
          "output_type": "stream",
          "name": "stdout",
          "text": [
            "Acurácia do perceptron no conjunto de teste: 50.00%\n"
          ]
        }
      ]
    },
    {
      "cell_type": "code",
      "source": [
        "# Determinar quantos hiperplanos foram traçados pela SVM\n",
        "num_hiperplanos_svm = len(svm.support_)\n",
        "\n",
        "# Determinar o número de hiperplanos traçados pelo Perceptron (sempre será 1)\n",
        "num_hiperplanos_perceptron = 1\n",
        "\n",
        "k = 2;\n",
        "\n",
        "#Custo computacional\n",
        "def calcular_custo_svm(k, num_hiperplanos_svm):\n",
        "  return num_hiperplanos_svm * (k**2 + k - 1)\n",
        "\n",
        "def calcular_custo_perceptron(k, num_hiperplanos_perceptron):\n",
        "  return num_hiperplanos_perceptron * (k + 1)\n",
        "\n",
        "custo_svm = calcular_custo_svm(k, num_hiperplanos_svm)\n",
        "custo_perceptron = calcular_custo_perceptron(k, num_hiperplanos_perceptron)\n",
        "\n",
        "print(f'\\nNúmero de hiperplanos traçados pela SVM: {num_hiperplanos_svm}')\n",
        "print(f\"\\nCusto original: {custo_svm}\")\n",
        "print(f\"\\nCusto perceptron: {custo_perceptron}\")"
      ],
      "metadata": {
        "colab": {
          "base_uri": "https://localhost:8080/"
        },
        "id": "_6BwMSbKU_hA",
        "outputId": "3a01fa21-5704-42aa-a152-70bf14195091"
      },
      "execution_count": null,
      "outputs": [
        {
          "output_type": "stream",
          "name": "stdout",
          "text": [
            "\n",
            "Número de hiperplanos traçados pela SVM: 4\n",
            "\n",
            "Custo original: 20\n",
            "\n",
            "Custo perceptron: 3\n"
          ]
        }
      ]
    },
    {
      "cell_type": "markdown",
      "source": [
        "**Os resultados de acurácia do SVM e do perceptron sujerem que o problema no conjunto de dados não é linearmente separável, o que explica a diferença nos resultados já que o perceptron foi limitado pelo fato dele tratar melhor de dados linearmente separávei.**\n",
        "\n",
        "**Quanto ao custo computacional o perceptron pode ser preferível em concorrência com o SVM em termos de eficiência especialmente em conjuntos de dados muito grandes, entretanto em problemas mais complexos, onde as classes não podem ser separadas por hiperplano, o SVM com Kernel linear se destaca por ter capacidade de lidar com espaços de características não lineares, no conjunto de dados em questão o SVM teve um maior custo computacional, mas conseguiu um resultado sem erros.**"
      ],
      "metadata": {
        "id": "d_jd57TDFTPb"
      }
    },
    {
      "cell_type": "code",
      "source": [
        "import requests\n",
        "import numpy as np\n",
        "from io import StringIO\n"
      ],
      "metadata": {
        "id": "nCeUB8yTplpB"
      },
      "execution_count": null,
      "outputs": []
    },
    {
      "cell_type": "code",
      "source": [
        "# carregado o conjunto de treino teste e validação salvo no repositorio do GitHub\n",
        "train=StringIO(requests.get('https://raw.githubusercontent.com/jaissonjpp/IC_UFPA_SVM/main/dataset/estudante_202206840009_train.txt').text)\n",
        "test=StringIO(requests.get('https://raw.githubusercontent.com/jaissonjpp/IC_UFPA_SVM/main/dataset/estudante_202206840009_test.txt').text)\n",
        "valid=StringIO(requests.get('https://raw.githubusercontent.com/jaissonjpp/IC_UFPA_SVM/main/dataset/estudante_202206840009_validation.txt').text)\n",
        "\n",
        "train =np.loadtxt(train, delimiter=',')\n",
        "test =np.loadtxt(test, delimiter=',')\n",
        "valid =np.loadtxt(valid, delimiter=',')"
      ],
      "metadata": {
        "id": "EnIB3WAr-3A6"
      },
      "execution_count": null,
      "outputs": []
    },
    {
      "cell_type": "code",
      "source": [
        "print(train,'\\n \\n',test,'\\n \\n',valid)"
      ],
      "metadata": {
        "colab": {
          "base_uri": "https://localhost:8080/"
        },
        "id": "iM_MLzgE-5Dq",
        "outputId": "705b9659-516d-425e-adae-212290d2bbda"
      },
      "execution_count": null,
      "outputs": [
        {
          "output_type": "stream",
          "name": "stdout",
          "text": [
            "[[-4.e+03  3.e+00  0.e+00]\n",
            " [ 0.e+00 -4.e+00  0.e+00]\n",
            " [ 0.e+00 -1.e+00  0.e+00]\n",
            " [ 4.e+03 -3.e+00  0.e+00]\n",
            " [-1.e+03 -6.e+00  1.e+00]\n",
            " [ 0.e+00 -6.e+00  1.e+00]\n",
            " [-1.e+03  5.e+00  1.e+00]\n",
            " [ 6.e+03  2.e+00  1.e+00]] \n",
            " \n",
            " [[ 2.e+03 -4.e+00  0.e+00]\n",
            " [-2.e+03 -2.e+00  0.e+00]\n",
            " [ 2.e+03 -4.e+00  1.e+00]\n",
            " [-1.e+03  4.e+00  1.e+00]\n",
            " [-3.e+03 -3.e+00  1.e+00]] \n",
            " \n",
            " [[ 3.e+03  1.e+00  0.e+00]\n",
            " [ 2.e+03  1.e+00  0.e+00]\n",
            " [ 3.e+03  6.e+00  1.e+00]\n",
            " [ 1.e+03 -5.e+00  1.e+00]]\n"
          ]
        }
      ]
    },
    {
      "cell_type": "code",
      "source": [
        "#np.set_printoptions(suppress=True)  é usada para suprimir a notação científica. Quando o array é impresso, os valores são exibidos como números de ponto flutuante normais, em vez de usar a notação científica.\n",
        "np.set_printoptions(suppress=True)\n"
      ],
      "metadata": {
        "id": "gyE0jOil-8Va"
      },
      "execution_count": null,
      "outputs": []
    },
    {
      "cell_type": "code",
      "source": [
        "print(train,'\\n \\n',test,'\\n \\n',valid)"
      ],
      "metadata": {
        "colab": {
          "base_uri": "https://localhost:8080/"
        },
        "id": "Ne5BJ_QS-9ZZ",
        "outputId": "8d98fad3-431f-4a79-8dac-5f6d566cde31"
      },
      "execution_count": null,
      "outputs": [
        {
          "output_type": "stream",
          "name": "stdout",
          "text": [
            "[[-4000.     3.     0.]\n",
            " [    0.    -4.     0.]\n",
            " [    0.    -1.     0.]\n",
            " [ 4000.    -3.     0.]\n",
            " [-1000.    -6.     1.]\n",
            " [    0.    -6.     1.]\n",
            " [-1000.     5.     1.]\n",
            " [ 6000.     2.     1.]] \n",
            " \n",
            " [[ 2000.    -4.     0.]\n",
            " [-2000.    -2.     0.]\n",
            " [ 2000.    -4.     1.]\n",
            " [-1000.     4.     1.]\n",
            " [-3000.    -3.     1.]] \n",
            " \n",
            " [[3000.    1.    0.]\n",
            " [2000.    1.    0.]\n",
            " [3000.    6.    1.]\n",
            " [1000.   -5.    1.]]\n"
          ]
        }
      ]
    },
    {
      "cell_type": "code",
      "source": [
        "media_x0=np.mean(train[:,[0]])\n",
        "media_x1=np.mean(train[:,[1]])\n",
        "\n",
        "std_x0=np.std(train[:,[0]])\n",
        "std_x1=np.std(train[:,[1]])\n",
        "\n",
        "def normalizar(X_data,media,std):\n",
        "  # normalizar um array \"X_data\" em função dos valores de media e desvio padrão\n",
        "  return (X_data-media)/std\n",
        "\n",
        "train[:,[0]]=normalizar(train[:, [0]],media_x0,std_x0)\n",
        "train[:,[1]]=normalizar(train[:, [1]],media_x1,std_x1)\n",
        "\n",
        "test[:,[0]]=normalizar(test[:, [0]],media_x0,std_x0)\n",
        "test[:,[1]]=normalizar(test[:, [1]],media_x1,std_x1)\n",
        "\n",
        "valid[:,[0]]=normalizar(valid[:, [0]],media_x0,std_x0)\n",
        "valid[:,[1]]=normalizar(valid[:, [1]],media_x1,std_x1)\n",
        "\n",
        "\n",
        "print(train,'\\n \\n',test,'\\n \\n',valid)"
      ],
      "metadata": {
        "colab": {
          "base_uri": "https://localhost:8080/"
        },
        "id": "WeymOGj9mswm",
        "outputId": "d36e3756-55bb-481b-d2d1-0a4590224c6e"
      },
      "execution_count": null,
      "outputs": [
        {
          "output_type": "stream",
          "name": "stdout",
          "text": [
            "[[-1.54348727  1.0816841   0.        ]\n",
            " [-0.17149859 -0.69991324  0.        ]\n",
            " [-0.17149859  0.06362848  0.        ]\n",
            " [ 1.2004901  -0.44539933  0.        ]\n",
            " [-0.51449576 -1.20894105  1.        ]\n",
            " [-0.17149859 -1.20894105  1.        ]\n",
            " [-0.51449576  1.59071191  1.        ]\n",
            " [ 1.88648444  0.82717019  1.        ]] \n",
            " \n",
            " [[ 0.51449576 -0.69991324  0.        ]\n",
            " [-0.85749293 -0.19088543  0.        ]\n",
            " [ 0.51449576 -0.69991324  1.        ]\n",
            " [-0.51449576  1.336198    1.        ]\n",
            " [-1.2004901  -0.44539933  1.        ]] \n",
            " \n",
            " [[ 0.85749293  0.57265629  0.        ]\n",
            " [ 0.51449576  0.57265629  0.        ]\n",
            " [ 0.85749293  1.84522581  1.        ]\n",
            " [ 0.17149859 -0.95442714  1.        ]]\n"
          ]
        }
      ]
    },
    {
      "cell_type": "markdown",
      "source": [
        "## Questão 7"
      ],
      "metadata": {
        "id": "R6gpAlvUsDdd"
      }
    },
    {
      "cell_type": "markdown",
      "source": [
        "### a)"
      ],
      "metadata": {
        "id": "W1IfuK1QsHb9"
      }
    },
    {
      "cell_type": "code",
      "source": [
        "'''\n",
        "Adapted from https://scikit-learn.org/stable/auto_examples/svm/plot_iris_svc.html#sphx-glr-auto-examples-svm-plot-iris-svc-py\n",
        "'''\n",
        "print(__doc__)\n",
        "\n",
        "import numpy as np\n",
        "import matplotlib.pyplot as plt\n",
        "from sklearn import svm, datasets\n",
        "\n",
        "def load_train_dataset_and_normalize_first_feature():\n",
        "    #from numpy import genfromtxt\n",
        "    my_data = np.genfromtxt('dataset_train.txt', delimiter=',')\n",
        "    X = my_data[:,:2] # fish length and weight\n",
        "    X[:,0] = X[:,0]/1000.0 #simple normalization\n",
        "    y = np.ravel(my_data[:,2:],order='C') #convert column vector into 1D array\n",
        "    feature_names = ('Length', 'Weight') #x and y\n",
        "    print('Normalized training set:')\n",
        "    print(X)\n",
        "    return X,y,feature_names\n",
        "\n",
        "def load_val_dataset_and_normalize_first_feature():\n",
        "    #from numpy import genfromtxt\n",
        "    my_data = np.genfromtxt('dataset_validation.txt', delimiter=',')\n",
        "    X = my_data[:,:2] # fish length and weight\n",
        "    X[:,0] = X[:,0]/1000.0 #simple normalization\n",
        "    y = np.ravel(my_data[:,2:],order='C') #convert column vector into 1D array\n",
        "    feature_names = ('Length', 'Weight') #x and y\n",
        "    print('Normalized validation set:')\n",
        "    print(X)\n",
        "    return X,y,feature_names\n",
        "\n",
        "def load_lista1_dataset():\n",
        "    #from numpy import genfromtxt\n",
        "    my_data = np.genfromtxt('lista1_dataset.csv', delimiter=',')\n",
        "    X = my_data[:,:2] # two first parameters are input vector\n",
        "    #y = my_data[:,2:]\n",
        "    y = np.ravel(my_data[:,2:],order='C') #convert column vector into 1D array\n",
        "    feature_names = ('x0', 'x1') #x and y\n",
        "    return X,y,feature_names\n",
        "\n",
        "def load_simple():\n",
        "    #from numpy import genfromtxt\n",
        "    my_data = np.genfromtxt('simple.csv', delimiter=',')\n",
        "    X = my_data[:,:2] # fish length and weight\n",
        "    y = np.ravel(my_data[:,2:],order='C') #convert column vector into 1D array\n",
        "    feature_names = ('Length', 'Weight') #x and y\n",
        "    return X,y,feature_names\n",
        "\n",
        "def convert_linear_SVM_to_perceptron(support_vectors, dual_coef):\n",
        "    dual_coef = np.ravel(dual_coef,order='C') #convert to a 1D vector\n",
        "    num_support_vectors = len(dual_coef)\n",
        "    if support_vectors.shape[0] != num_support_vectors:\n",
        "        raise Exception('support_vectors.shape[0] != num_support_vectors')\n",
        "    input_space_dimension = support_vectors.shape[1]\n",
        "    perceptron_weights = np.zeros((input_space_dimension))\n",
        "    for sv in range(num_support_vectors):\n",
        "        perceptron_weights += dual_coef[sv] * support_vectors[sv]\n",
        "    return perceptron_weights\n",
        "\n",
        "def calculate_intercept(perceptron_weights,support_vectors,support_vector_indices,labels):\n",
        "    '''\n",
        "    https://stats.stackexchange.com/questions/211310/deriving-the-intercept-term-in-a-linearly-separable-and-soft-margin-svm\n",
        "    '''\n",
        "    num_support_vectors = support_vectors.shape[0]\n",
        "    #input_space_dimension = support_vectors.shape[1]\n",
        "    max_negative = -1e30\n",
        "    min_positive = 1e30\n",
        "    for i in range(num_support_vectors):\n",
        "        #note that labels has all training examples, not only support vectors,\n",
        "        #so use support_vector_indices to get the proper index in training set\n",
        "        this_label = labels[support_vector_indices[i]]\n",
        "        this_inner_product = np.inner(perceptron_weights, support_vectors[i])\n",
        "        if this_label > 0:\n",
        "            if this_inner_product < min_positive:\n",
        "                min_positive = this_inner_product\n",
        "        else:\n",
        "            if this_inner_product > max_negative:\n",
        "                max_negative = this_inner_product\n",
        "    return -(max_negative+min_positive)/2.0\n",
        "\n",
        "def make_meshgrid(x, y, h=.02):\n",
        "    \"\"\"Create a mesh of points to plot in\n",
        "\n",
        "    Parameters\n",
        "    ----------\n",
        "    x: data to base x-axis meshgrid on\n",
        "    y: data to base y-axis meshgrid on\n",
        "    h: stepsize for meshgrid, optional\n",
        "\n",
        "    Returns\n",
        "    -------\n",
        "    xx, yy : ndarray\n",
        "    \"\"\"\n",
        "    x_min, x_max = x.min() - 1, x.max() + 1\n",
        "    y_min, y_max = y.min() - 1, y.max() + 1\n",
        "    xx, yy = np.meshgrid(np.arange(x_min, x_max, h),\n",
        "                         np.arange(y_min, y_max, h))\n",
        "    return xx, yy\n",
        "\n",
        "\n",
        "def plot_contours(ax, clf, xx, yy, **params):\n",
        "    \"\"\"Plot the decision boundaries for a classifier.\n",
        "\n",
        "    Parameters\n",
        "    ----------\n",
        "    ax: matplotlib axes object\n",
        "    clf: a classifier\n",
        "    xx: meshgrid ndarray\n",
        "    yy: meshgrid ndarray\n",
        "    params: dictionary of params to pass to contourf, optional\n",
        "    \"\"\"\n",
        "    Z = clf.predict(np.c_[xx.ravel(), yy.ravel()])\n",
        "    Z = Z.reshape(xx.shape)\n",
        "    out = ax.contourf(xx, yy, Z, **params)\n",
        "    return out\n",
        "\n",
        "np.random.seed(30) #reproducible experiments\n",
        "\n",
        "#Choose here the dataset:\n",
        "# X,y,feature_names = load_simple()\n",
        "#X,y,feature_names = load_lista1_dataset()\n",
        "X_train,y_train,feature_names_train = load_train_dataset_and_normalize_first_feature()\n",
        "X_val,y_val,feature_names_val = load_val_dataset_and_normalize_first_feature()\n",
        "\n",
        "# we create an instance of SVM and fit out data. We do not scale our\n",
        "# data since we want to plot the support vectors\n",
        "\n",
        "rbf_svm1 = svm.SVC(kernel='rbf', gamma=0.5, C=0.01)\n",
        "rbf_svm2 = svm.SVC(kernel='rbf', gamma=1, C=0.01)\n",
        "rbf_svm3 = svm.SVC(kernel='rbf', gamma=0.5, C=1)\n",
        "rbf_svm4 = svm.SVC(kernel='rbf', gamma=1, C=1)\n",
        "rbf_svm5 = svm.SVC(kernel='rbf', gamma=0.5, C=100)\n",
        "rbf_svm6 = svm.SVC(kernel='rbf', gamma=1, C=100)\n",
        "\n",
        "#These are generic SVMs\n",
        "#https://scikit-learn.org/stable/modules/generated/sklearn.svm.SVC.html#sklearn.svm.SVC\n",
        "rbf_svm1.fit(X_train,y_train)\n",
        "rbf_svm2.fit(X_train,y_train)\n",
        "rbf_svm3.fit(X_train,y_train)\n",
        "rbf_svm4.fit(X_train,y_train)\n",
        "rbf_svm5.fit(X_train,y_train)\n",
        "rbf_svm6.fit(X_train,y_train)\n",
        "\n",
        "tuple_of_svms = (rbf_svm1, rbf_svm2, rbf_svm3, rbf_svm4, rbf_svm5, rbf_svm6)\n",
        "svm_scores = np.zeros((6,))\n",
        "print('\\n\\n#### Generic SVMs with SVC #####')\n",
        "for i in range(6):\n",
        "    svm = tuple_of_svms[i]\n",
        "    print('#### ', str(i+1), ') SVM with SVC ####\\n', svm.get_params())\n",
        "    print('svm.n_support_=',svm.n_support_)\n",
        "    print('svm.support_=',svm.support_)\n",
        "    print('svm.support_vectors_=',svm.support_vectors_)\n",
        "    print('svm.dual_coef_=',svm.dual_coef_)\n",
        "    print('svm.intercept_=',svm.intercept_)\n",
        "    decisions = svm.decision_function(X)\n",
        "    if len(decisions) > 10: #don't show too many numbers\n",
        "        decisions = decisions[:10]\n",
        "    print('At most 10 decisions: svm.decision_function(X)=',decisions)\n",
        "    svm_scores[i] = svm.score(X_val,y_val)\n",
        "    print('Accuracy via svm.score(X,y)=',svm_scores[i])\n",
        "\n",
        "#Plot:\n",
        "models = (rbf_svm1, rbf_svm2, rbf_svm3, rbf_svm4, rbf_svm5, rbf_svm6)\n",
        "\n",
        "# title for the plots\n",
        "titles = ('SVC RBF (gamma=0.5, C=0.01)',\n",
        "        'SVC RBF (gamma=1, C=0.01)',\n",
        "        'SVC RBF (gamma=0.5, C=1)',\n",
        "        'SVC RBF (gamma=1, C=1)',\n",
        "        'SVC RBF (gamma=0.5, C=100)',\n",
        "        'SVC RBF (gamma=1, C=100)')\n",
        "\n",
        "# Set-up 2x2 grid for plotting.\n",
        "fig, sub = plt.subplots(3, 2)\n",
        "plt.subplots_adjust(wspace=0.6, hspace=0.4)\n",
        "\n",
        "X0, X1 = X_val[:, 0], X_val[:, 1]\n",
        "xx, yy = make_meshgrid(X0, X1)\n",
        "\n",
        "for clf, title, ax in zip(models, titles, sub.flatten()):\n",
        "    plot_contours(ax, clf, xx, yy,\n",
        "                  cmap=plt.cm.coolwarm, alpha=0.8)\n",
        "    ax.scatter(X0, X1, c=y_val, cmap=plt.cm.coolwarm, s=20, edgecolors='k')\n",
        "    ax.set_xlim(xx.min(), xx.max())\n",
        "    ax.set_ylim(yy.min(), yy.max())\n",
        "    ax.set_xlabel(feature_names[0])\n",
        "    ax.set_ylabel(feature_names[1])\n",
        "    ax.set_xticks(())\n",
        "    ax.set_yticks(())\n",
        "    ax.set_title(title)\n",
        "\n",
        "print(titles,'have accuracies:')\n",
        "print('svm_scores=',svm_scores)\n",
        "plt.show()"
      ],
      "metadata": {
        "colab": {
          "base_uri": "https://localhost:8080/",
          "height": 1000
        },
        "id": "3Olwiy2asi60",
        "outputId": "1f72c4db-8b9f-4c34-8e5a-314bc1d184e7"
      },
      "execution_count": null,
      "outputs": [
        {
          "output_type": "stream",
          "name": "stdout",
          "text": [
            "\n",
            "Adapted from https://scikit-learn.org/stable/auto_examples/svm/plot_iris_svc.html#sphx-glr-auto-examples-svm-plot-iris-svc-py\n",
            "\n",
            "Normalized training set:\n",
            "[[ 0. -4.]\n",
            " [-1.  2.]\n",
            " [ 3.  3.]\n",
            " [-5. -6.]\n",
            " [-4. -5.]\n",
            " [-2. -2.]]\n",
            "Normalized validation set:\n",
            "[[ 2. -2.]\n",
            " [ 4. -1.]\n",
            " [ 3. -1.]\n",
            " [-2.  1.]\n",
            " [-6. -1.]\n",
            " [-4.  0.]\n",
            " [-6. -4.]\n",
            " [-2.  3.]]\n",
            "\n",
            "\n",
            "#### Generic SVMs with SVC #####\n",
            "####  1 ) SVM with SVC ####\n",
            " {'C': 0.01, 'break_ties': False, 'cache_size': 200, 'class_weight': None, 'coef0': 0.0, 'decision_function_shape': 'ovr', 'degree': 3, 'gamma': 0.5, 'kernel': 'rbf', 'max_iter': -1, 'probability': False, 'random_state': None, 'shrinking': True, 'tol': 0.001, 'verbose': False}\n",
            "svm.n_support_= [3 3]\n",
            "svm.support_= [0 1 2 3 4 5]\n",
            "svm.support_vectors_= [[ 0. -4.]\n",
            " [-1.  2.]\n",
            " [ 3.  3.]\n",
            " [-5. -6.]\n",
            " [-4. -5.]\n",
            " [-2. -2.]]\n",
            "svm.dual_coef_= [[-0.01 -0.01 -0.01  0.01  0.01  0.01]]\n",
            "svm.intercept_= [-0.00184488]\n",
            "At most 10 decisions: svm.decision_function(X)= [-0.01165968 -0.01184488 -0.01184691  0.01183395  0.01184691  0.007985  ]\n",
            "Accuracy via svm.score(X,y)= 0.5\n",
            "####  2 ) SVM with SVC ####\n",
            " {'C': 0.01, 'break_ties': False, 'cache_size': 200, 'class_weight': None, 'coef0': 0.0, 'decision_function_shape': 'ovr', 'degree': 3, 'gamma': 1, 'kernel': 'rbf', 'max_iter': -1, 'probability': False, 'random_state': None, 'shrinking': True, 'tol': 0.001, 'verbose': False}\n",
            "svm.n_support_= [3 3]\n",
            "svm.support_= [0 1 2 3 4 5]\n",
            "svm.support_vectors_= [[ 0. -4.]\n",
            " [-1.  2.]\n",
            " [ 3.  3.]\n",
            " [-5. -6.]\n",
            " [-4. -5.]\n",
            " [-2. -2.]]\n",
            "svm.dual_coef_= [[-0.01 -0.01 -0.01  0.01  0.01  0.01]]\n",
            "svm.intercept_= [-0.00067669]\n",
            "At most 10 decisions: svm.decision_function(X)= [-0.01067333 -0.01067669 -0.01067669  0.01067667  0.01067669  0.00931998]\n",
            "Accuracy via svm.score(X,y)= 0.5\n",
            "####  3 ) SVM with SVC ####\n",
            " {'C': 1, 'break_ties': False, 'cache_size': 200, 'class_weight': None, 'coef0': 0.0, 'decision_function_shape': 'ovr', 'degree': 3, 'gamma': 0.5, 'kernel': 'rbf', 'max_iter': -1, 'probability': False, 'random_state': None, 'shrinking': True, 'tol': 0.001, 'verbose': False}\n",
            "svm.n_support_= [3 3]\n",
            "svm.support_= [0 1 2 3 4 5]\n",
            "svm.support_vectors_= [[ 0. -4.]\n",
            " [-1.  2.]\n",
            " [ 3.  3.]\n",
            " [-5. -6.]\n",
            " [-4. -5.]\n",
            " [-2. -2.]]\n",
            "svm.dual_coef_= [[-0.89406363 -0.87495609 -0.87475259  0.82292867  0.82084364  1.        ]]\n",
            "svm.intercept_= [-0.12487307]\n",
            "At most 10 decisions: svm.decision_function(X)= [-1.00045364 -0.99980369 -0.99980369  1.00003037  1.00003063  0.85981071]\n",
            "Accuracy via svm.score(X,y)= 0.625\n",
            "####  4 ) SVM with SVC ####\n",
            " {'C': 1, 'break_ties': False, 'cache_size': 200, 'class_weight': None, 'coef0': 0.0, 'decision_function_shape': 'ovr', 'degree': 3, 'gamma': 1, 'kernel': 'rbf', 'max_iter': -1, 'probability': False, 'random_state': None, 'shrinking': True, 'tol': 0.001, 'verbose': False}\n",
            "svm.n_support_= [3 3]\n",
            "svm.support_= [0 1 2 3 4 5]\n",
            "svm.support_vectors_= [[ 0. -4.]\n",
            " [-1.  2.]\n",
            " [ 3.  3.]\n",
            " [-5. -6.]\n",
            " [-4. -5.]\n",
            " [-2. -2.]]\n",
            "svm.dual_coef_= [[-0.95071299 -0.95037749 -0.94944609  0.92519669  0.92533989  1.        ]]\n",
            "svm.intercept_= [-0.05015611]\n",
            "At most 10 decisions: svm.decision_function(X)= [-1.0005336  -1.0005336  -0.99960225  1.00027171  1.00039775  0.94952701]\n",
            "Accuracy via svm.score(X,y)= 0.5\n",
            "####  5 ) SVM with SVC ####\n",
            " {'C': 100, 'break_ties': False, 'cache_size': 200, 'class_weight': None, 'coef0': 0.0, 'decision_function_shape': 'ovr', 'degree': 3, 'gamma': 0.5, 'kernel': 'rbf', 'max_iter': -1, 'probability': False, 'random_state': None, 'shrinking': True, 'tol': 0.001, 'verbose': False}\n",
            "svm.n_support_= [3 3]\n",
            "svm.support_= [0 1 2 3 4 5]\n",
            "svm.support_vectors_= [[ 0. -4.]\n",
            " [-1.  2.]\n",
            " [ 3.  3.]\n",
            " [-5. -6.]\n",
            " [-4. -5.]\n",
            " [-2. -2.]]\n",
            "svm.dual_coef_= [[-0.92134673 -0.90004482 -0.90020003  0.80423907  0.80226481  1.1150877 ]]\n",
            "svm.intercept_= [-0.0995152]\n",
            "At most 10 decisions: svm.decision_function(X)= [-1.00027475 -0.9995163  -0.99989836  0.99986429  1.00010163  0.99972347]\n",
            "Accuracy via svm.score(X,y)= 0.625\n",
            "####  6 ) SVM with SVC ####\n",
            " {'C': 100, 'break_ties': False, 'cache_size': 200, 'class_weight': None, 'coef0': 0.0, 'decision_function_shape': 'ovr', 'degree': 3, 'gamma': 1, 'kernel': 'rbf', 'max_iter': -1, 'probability': False, 'random_state': None, 'shrinking': True, 'tol': 0.001, 'verbose': False}\n",
            "svm.n_support_= [3 3]\n",
            "svm.support_= [0 1 2 3 4 5]\n",
            "svm.support_vectors_= [[ 0. -4.]\n",
            " [-1.  2.]\n",
            " [ 3.  3.]\n",
            " [-5. -6.]\n",
            " [-4. -5.]\n",
            " [-2. -2.]]\n",
            "svm.dual_coef_= [[-0.95911365 -0.95880852 -0.95819016  0.9175437   0.91701313  1.04155551]]\n",
            "svm.intercept_= [-0.04138538]\n",
            "At most 10 decisions: svm.decision_function(X)= [-1.00014959 -1.0001939  -0.99957558  1.00026255  0.9998061   0.99985041]\n",
            "Accuracy via svm.score(X,y)= 0.5\n",
            "('SVC RBF (gamma=0.5, C=0.01)', 'SVC RBF (gamma=1, C=0.01)', 'SVC RBF (gamma=0.5, C=1)', 'SVC RBF (gamma=1, C=1)', 'SVC RBF (gamma=0.5, C=100)', 'SVC RBF (gamma=1, C=100)') have accuracies:\n",
            "svm_scores= [0.5   0.5   0.625 0.5   0.625 0.5  ]\n"
          ]
        },
        {
          "output_type": "display_data",
          "data": {
            "text/plain": [
              "<Figure size 640x480 with 6 Axes>"
            ],
            "image/png": "[encoded data removed]"
          },
          "metadata": {}
        }
      ]
    },
    {
      "cell_type": "markdown",
      "source": [
        "> Os melhores modelos são:\n",
        "*   SVC RBF (gamma=0.5, C=1)\n",
        "*   SVC RBF (gamma=0.5, C=100)\n",
        "\n"
      ],
      "metadata": {
        "id": "1ig5Ki_m0qgj"
      }
    },
    {
      "cell_type": "markdown",
      "source": [
        "### b)"
      ],
      "metadata": {
        "id": "nRhbpkKEsJ-9"
      }
    },
    {
      "cell_type": "markdown",
      "source": [
        ">b1)\n",
        "\n",
        ">Modelo 1:\n",
        "*    \"C\": 1,\n",
        "*    \"break_ties\": False,\n",
        "*    \"cache_size\": 200,\n",
        "*    \"class_weight\": None,\n",
        "*    \"coef0\": 0.0,\n",
        "*    \"decision_function_shape\": \"ovr\",\n",
        "*    \"degree\": 3,\n",
        "*    \"gamma\": 0.5,\n",
        "*    \"kernel\": \"rbf\",\n",
        "*    \"max_iter\": -1,\n",
        "*    \"probability\": False,\n",
        "*    \"random_state\": None,\n",
        "*    \"shrinking\": True,\n",
        "*    \"tol\": 0.001,\n",
        "*    \"verbose\": False,\n",
        "\n",
        ">Modelo 2:\n",
        "*    \"C\": 100,\n",
        "*    \"break_ties\": False,\n",
        "*    \"cache_size\": 200,\n",
        "*    \"class_weight\": None,\n",
        "*    \"coef0\": 0.0,\n",
        "*    \"decision_function_shape\": \"ovr\",\n",
        "*    \"degree\": 3,\n",
        "*    \"gamma\": 0.5,\n",
        "*    \"kernel\": \"rbf\",\n",
        "*    \"max_iter\": -1,\n",
        "*    \"probability\": False,\n",
        "*    \"random_state\": None,\n",
        "*    \"shrinking\": True,\n",
        "*    \"tol\": 0.001,\n",
        "*    \"verbose\": False,\n",
        "\n",
        "---\n",
        ">b2)\n",
        "\n",
        ">Modelo 1:\n",
        "  [ 0., -4.]\n",
        "  [-1.,  2.]\n",
        "  [ 3.,  3.]\n",
        "  [-5., -6.]\n",
        "  [-4., -5.]\n",
        "  [-2., -2.]\n",
        "\n",
        "> Modelo 2:\n",
        "  [ 0., -4.]\n",
        "  [-1.,  2.]\n",
        "  [ 3.,  3.]\n",
        "  [-5., -6.]\n",
        "  [-4., -5.]\n",
        "  [-2., -2.]\n",
        "\n",
        "---\n",
        ">b3)\n",
        "\n",
        ">Modelo 1:\n",
        "[3, 3]\n",
        "\n",
        ">Modelo 2:\n",
        "[3, 3]\n",
        "\n",
        "---\n",
        ">b4)\n",
        "\n",
        ">Modelo 1:\n",
        "[-0.89406363, -0.87495609, -0.87475259,  0.82292867,  0.82084364,  1.        ]\n",
        "\n",
        ">Modelo 2:\n",
        "[-0.92134673, -0.90004482, -0.90020003,  0.80423907,  0.80226481,  1.1150877 ]\n",
        "\n",
        "---\n",
        ">b5)\n",
        "\n",
        ">Modelo 1:\n",
        "$b=-0.12487307$\n",
        "\n",
        ">Modelo 2:\n",
        "$b=-0.0995152$"
      ],
      "metadata": {
        "id": "ln3SVPkD08ob"
      }
    },
    {
      "cell_type": "markdown",
      "source": [
        "### c)"
      ],
      "metadata": {
        "id": "83IAvEznsLrE"
      }
    },
    {
      "cell_type": "code",
      "source": [
        "'''\n",
        "Adapted from https://scikit-learn.org/stable/auto_examples/svm/plot_iris_svc.html#sphx-glr-auto-examples-svm-plot-iris-svc-py\n",
        "'''\n",
        "print(__doc__)\n",
        "\n",
        "import numpy as np\n",
        "import matplotlib.pyplot as plt\n",
        "from sklearn import svm, datasets\n",
        "\n",
        "def load_train_dataset_and_normalize_first_feature():\n",
        "    #from numpy import genfromtxt\n",
        "    my_data = np.genfromtxt('dataset_train.txt', delimiter=',')\n",
        "    X = my_data[:,:2] # fish length and weight\n",
        "    X[:,0] = X[:,0]/1000.0 #simple normalization\n",
        "    y = np.ravel(my_data[:,2:],order='C') #convert column vector into 1D array\n",
        "    feature_names = ('Length', 'Weight') #x and y\n",
        "    print('Normalized training set:')\n",
        "    print(X)\n",
        "    return X,y,feature_names\n",
        "\n",
        "def load_test_dataset_and_normalize_first_feature():\n",
        "    #from numpy import genfromtxt\n",
        "    my_data = np.genfromtxt('dataset_test.txt', delimiter=',')\n",
        "    X = my_data[:,:2] # fish length and weight\n",
        "    X[:,0] = X[:,0]/1000.0 #simple normalization\n",
        "    y = np.ravel(my_data[:,2:],order='C') #convert column vector into 1D array\n",
        "    #pegando apenas os 2 primeiros exemplos\n",
        "    X = X[:2]\n",
        "    y = y[:2]\n",
        "    feature_names = ('Length', 'Weight') #x and y\n",
        "    print('Normalized test set:')\n",
        "    print(X)\n",
        "    return X,y,feature_names\n",
        "\n",
        "def load_lista1_dataset():\n",
        "    #from numpy import genfromtxt\n",
        "    my_data = np.genfromtxt('lista1_dataset.csv', delimiter=',')\n",
        "    X = my_data[:,:2] # two first parameters are input vector\n",
        "    #y = my_data[:,2:]\n",
        "    y = np.ravel(my_data[:,2:],order='C') #convert column vector into 1D array\n",
        "    feature_names = ('x0', 'x1') #x and y\n",
        "    return X,y,feature_names\n",
        "\n",
        "def load_simple():\n",
        "    #from numpy import genfromtxt\n",
        "    my_data = np.genfromtxt('simple.csv', delimiter=',')\n",
        "    X = my_data[:,:2] # fish length and weight\n",
        "    y = np.ravel(my_data[:,2:],order='C') #convert column vector into 1D array\n",
        "    feature_names = ('Length', 'Weight') #x and y\n",
        "    return X,y,feature_names\n",
        "\n",
        "def convert_linear_SVM_to_perceptron(support_vectors, dual_coef):\n",
        "    dual_coef = np.ravel(dual_coef,order='C') #convert to a 1D vector\n",
        "    num_support_vectors = len(dual_coef)\n",
        "    if support_vectors.shape[0] != num_support_vectors:\n",
        "        raise Exception('support_vectors.shape[0] != num_support_vectors')\n",
        "    input_space_dimension = support_vectors.shape[1]\n",
        "    perceptron_weights = np.zeros((input_space_dimension))\n",
        "    for sv in range(num_support_vectors):\n",
        "        perceptron_weights += dual_coef[sv] * support_vectors[sv]\n",
        "    return perceptron_weights\n",
        "\n",
        "def calculate_intercept(perceptron_weights,support_vectors,support_vector_indices,labels):\n",
        "    '''\n",
        "    https://stats.stackexchange.com/questions/211310/deriving-the-intercept-term-in-a-linearly-separable-and-soft-margin-svm\n",
        "    '''\n",
        "    num_support_vectors = support_vectors.shape[0]\n",
        "    #input_space_dimension = support_vectors.shape[1]\n",
        "    max_negative = -1e30\n",
        "    min_positive = 1e30\n",
        "    for i in range(num_support_vectors):\n",
        "        #note that labels has all training examples, not only support vectors,\n",
        "        #so use support_vector_indices to get the proper index in training set\n",
        "        this_label = labels[support_vector_indices[i]]\n",
        "        this_inner_product = np.inner(perceptron_weights, support_vectors[i])\n",
        "        if this_label > 0:\n",
        "            if this_inner_product < min_positive:\n",
        "                min_positive = this_inner_product\n",
        "        else:\n",
        "            if this_inner_product > max_negative:\n",
        "                max_negative = this_inner_product\n",
        "    return -(max_negative+min_positive)/2.0\n",
        "\n",
        "def make_meshgrid(x, y, h=.02):\n",
        "    \"\"\"Create a mesh of points to plot in\n",
        "\n",
        "    Parameters\n",
        "    ----------\n",
        "    x: data to base x-axis meshgrid on\n",
        "    y: data to base y-axis meshgrid on\n",
        "    h: stepsize for meshgrid, optional\n",
        "\n",
        "    Returns\n",
        "    -------\n",
        "    xx, yy : ndarray\n",
        "    \"\"\"\n",
        "    x_min, x_max = x.min() - 1, x.max() + 1\n",
        "    y_min, y_max = y.min() - 1, y.max() + 1\n",
        "    xx, yy = np.meshgrid(np.arange(x_min, x_max, h),\n",
        "                         np.arange(y_min, y_max, h))\n",
        "    return xx, yy\n",
        "\n",
        "\n",
        "def plot_contours(ax, clf, xx, yy, **params):\n",
        "    \"\"\"Plot the decision boundaries for a classifier.\n",
        "\n",
        "    Parameters\n",
        "    ----------\n",
        "    ax: matplotlib axes object\n",
        "    clf: a classifier\n",
        "    xx: meshgrid ndarray\n",
        "    yy: meshgrid ndarray\n",
        "    params: dictionary of params to pass to contourf, optional\n",
        "    \"\"\"\n",
        "    Z = clf.predict(np.c_[xx.ravel(), yy.ravel()])\n",
        "    Z = Z.reshape(xx.shape)\n",
        "    out = ax.contourf(xx, yy, Z, **params)\n",
        "    return out\n",
        "\n",
        "np.random.seed(30) #reproducible experiments\n",
        "\n",
        "#Choose here the dataset:\n",
        "# X,y,feature_names = load_simple()\n",
        "#X,y,feature_names = load_lista1_dataset()\n",
        "X_train,y_train,feature_names_train = load_train_dataset_and_normalize_first_feature()\n",
        "X_test,y_test,feature_names_test = load_test_dataset_and_normalize_first_feature()\n",
        "\n",
        "# we create an instance of SVM and fit out data. We do not scale our\n",
        "# data since we want to plot the support vectors\n",
        "\n",
        "rbf_svm1 = svm.SVC(kernel='rbf', gamma=0.5, C=0.01)\n",
        "rbf_svm2 = svm.SVC(kernel='rbf', gamma=1, C=0.01)\n",
        "rbf_svm3 = svm.SVC(kernel='rbf', gamma=0.5, C=1)\n",
        "rbf_svm4 = svm.SVC(kernel='rbf', gamma=1, C=1)\n",
        "rbf_svm5 = svm.SVC(kernel='rbf', gamma=0.5, C=100)\n",
        "rbf_svm6 = svm.SVC(kernel='rbf', gamma=1, C=100)\n",
        "\n",
        "#These are generic SVMs\n",
        "#https://scikit-learn.org/stable/modules/generated/sklearn.svm.SVC.html#sklearn.svm.SVC\n",
        "rbf_svm1.fit(X_train,y_train)\n",
        "rbf_svm2.fit(X_train,y_train)\n",
        "rbf_svm3.fit(X_train,y_train)\n",
        "rbf_svm4.fit(X_train,y_train)\n",
        "rbf_svm5.fit(X_train,y_train)\n",
        "rbf_svm6.fit(X_train,y_train)\n",
        "\n",
        "tuple_of_svms = (rbf_svm1, rbf_svm2, rbf_svm3, rbf_svm4, rbf_svm5, rbf_svm6)\n",
        "svm_scores = np.zeros((6,))\n",
        "print('\\n\\n#### Generic SVMs with SVC #####')\n",
        "for i in range(6):\n",
        "    svm = tuple_of_svms[i]\n",
        "    print('#### ', str(i+1), ') SVM with SVC ####\\n', svm.get_params())\n",
        "    print('svm.n_support_=',svm.n_support_)\n",
        "    print('svm.support_=',svm.support_)\n",
        "    print('svm.support_vectors_=',svm.support_vectors_)\n",
        "    print('svm.dual_coef_=',svm.dual_coef_)\n",
        "    print('svm.intercept_=',svm.intercept_)\n",
        "    decisions = svm.decision_function(X)\n",
        "    if len(decisions) > 10: #don't show too many numbers\n",
        "        decisions = decisions[:10]\n",
        "    print('At most 10 decisions: svm.decision_function(X)=',decisions)\n",
        "    svm_scores[i] = svm.score(X_test,y_test)\n",
        "    print('Accuracy via svm.score(X,y)=',svm_scores[i])\n",
        "\n",
        "#Plot:\n",
        "models = (rbf_svm1, rbf_svm2, rbf_svm3, rbf_svm4, rbf_svm5, rbf_svm6)\n",
        "\n",
        "# title for the plots\n",
        "titles = ('SVC RBF (gamma=0.5, C=0.01)',\n",
        "        'SVC RBF (gamma=1, C=0.01)',\n",
        "        'SVC RBF (gamma=0.5, C=1)',\n",
        "        'SVC RBF (gamma=1, C=1)',\n",
        "        'SVC RBF (gamma=0.5, C=100)',\n",
        "        'SVC RBF (gamma=1, C=100)')\n",
        "\n",
        "# Set-up 2x2 grid for plotting.\n",
        "fig, sub = plt.subplots(3, 2)\n",
        "plt.subplots_adjust(wspace=0.6, hspace=0.4)\n",
        "\n",
        "X0, X1 = X_test[:, 0], X_test[:, 1]\n",
        "xx, yy = make_meshgrid(X0, X1)\n",
        "\n",
        "for clf, title, ax in zip(models, titles, sub.flatten()):\n",
        "    plot_contours(ax, clf, xx, yy,\n",
        "                  cmap=plt.cm.coolwarm, alpha=0.8)\n",
        "    ax.scatter(X0, X1, c=y_test, cmap=plt.cm.coolwarm, s=20, edgecolors='k')\n",
        "    ax.set_xlim(xx.min(), xx.max())\n",
        "    ax.set_ylim(yy.min(), yy.max())\n",
        "    ax.set_xlabel(feature_names[0])\n",
        "    ax.set_ylabel(feature_names[1])\n",
        "    ax.set_xticks(())\n",
        "    ax.set_yticks(())\n",
        "    ax.set_title(title)\n",
        "\n",
        "print(titles,'have accuracies:')\n",
        "print('svm_scores=',svm_scores)\n",
        "plt.show()"
      ],
      "metadata": {
        "colab": {
          "base_uri": "https://localhost:8080/",
          "height": 1000
        },
        "id": "PfzxR3ut5ImR",
        "outputId": "b4c7e568-7af5-459a-999d-4c5a8547d47a"
      },
      "execution_count": null,
      "outputs": [
        {
          "output_type": "stream",
          "name": "stdout",
          "text": [
            "\n",
            "Adapted from https://scikit-learn.org/stable/auto_examples/svm/plot_iris_svc.html#sphx-glr-auto-examples-svm-plot-iris-svc-py\n",
            "\n",
            "Normalized training set:\n",
            "[[ 0. -4.]\n",
            " [-1.  2.]\n",
            " [ 3.  3.]\n",
            " [-5. -6.]\n",
            " [-4. -5.]\n",
            " [-2. -2.]]\n",
            "Normalized test set:\n",
            "[[ 1. -2.]\n",
            " [-1.  0.]]\n",
            "\n",
            "\n",
            "#### Generic SVMs with SVC #####\n",
            "####  1 ) SVM with SVC ####\n",
            " {'C': 0.01, 'break_ties': False, 'cache_size': 200, 'class_weight': None, 'coef0': 0.0, 'decision_function_shape': 'ovr', 'degree': 3, 'gamma': 0.5, 'kernel': 'rbf', 'max_iter': -1, 'probability': False, 'random_state': None, 'shrinking': True, 'tol': 0.001, 'verbose': False}\n",
            "svm.n_support_= [3 3]\n",
            "svm.support_= [0 1 2 3 4 5]\n",
            "svm.support_vectors_= [[ 0. -4.]\n",
            " [-1.  2.]\n",
            " [ 3.  3.]\n",
            " [-5. -6.]\n",
            " [-4. -5.]\n",
            " [-2. -2.]]\n",
            "svm.dual_coef_= [[-0.01 -0.01 -0.01  0.01  0.01  0.01]]\n",
            "svm.intercept_= [-0.00184488]\n",
            "At most 10 decisions: svm.decision_function(X)= [-0.01165968 -0.01184488 -0.01184691  0.01183395  0.01184691  0.007985  ]\n",
            "Accuracy via svm.score(X,y)= 1.0\n",
            "####  2 ) SVM with SVC ####\n",
            " {'C': 0.01, 'break_ties': False, 'cache_size': 200, 'class_weight': None, 'coef0': 0.0, 'decision_function_shape': 'ovr', 'degree': 3, 'gamma': 1, 'kernel': 'rbf', 'max_iter': -1, 'probability': False, 'random_state': None, 'shrinking': True, 'tol': 0.001, 'verbose': False}\n",
            "svm.n_support_= [3 3]\n",
            "svm.support_= [0 1 2 3 4 5]\n",
            "svm.support_vectors_= [[ 0. -4.]\n",
            " [-1.  2.]\n",
            " [ 3.  3.]\n",
            " [-5. -6.]\n",
            " [-4. -5.]\n",
            " [-2. -2.]]\n",
            "svm.dual_coef_= [[-0.01 -0.01 -0.01  0.01  0.01  0.01]]\n",
            "svm.intercept_= [-0.00067669]\n",
            "At most 10 decisions: svm.decision_function(X)= [-0.01067333 -0.01067669 -0.01067669  0.01067667  0.01067669  0.00931998]\n",
            "Accuracy via svm.score(X,y)= 1.0\n",
            "####  3 ) SVM with SVC ####\n",
            " {'C': 1, 'break_ties': False, 'cache_size': 200, 'class_weight': None, 'coef0': 0.0, 'decision_function_shape': 'ovr', 'degree': 3, 'gamma': 0.5, 'kernel': 'rbf', 'max_iter': -1, 'probability': False, 'random_state': None, 'shrinking': True, 'tol': 0.001, 'verbose': False}\n",
            "svm.n_support_= [3 3]\n",
            "svm.support_= [0 1 2 3 4 5]\n",
            "svm.support_vectors_= [[ 0. -4.]\n",
            " [-1.  2.]\n",
            " [ 3.  3.]\n",
            " [-5. -6.]\n",
            " [-4. -5.]\n",
            " [-2. -2.]]\n",
            "svm.dual_coef_= [[-0.89406363 -0.87495609 -0.87475259  0.82292867  0.82084364  1.        ]]\n",
            "svm.intercept_= [-0.12487307]\n",
            "At most 10 decisions: svm.decision_function(X)= [-1.00045364 -0.99980369 -0.99980369  1.00003037  1.00003063  0.85981071]\n",
            "Accuracy via svm.score(X,y)= 1.0\n",
            "####  4 ) SVM with SVC ####\n",
            " {'C': 1, 'break_ties': False, 'cache_size': 200, 'class_weight': None, 'coef0': 0.0, 'decision_function_shape': 'ovr', 'degree': 3, 'gamma': 1, 'kernel': 'rbf', 'max_iter': -1, 'probability': False, 'random_state': None, 'shrinking': True, 'tol': 0.001, 'verbose': False}\n",
            "svm.n_support_= [3 3]\n",
            "svm.support_= [0 1 2 3 4 5]\n",
            "svm.support_vectors_= [[ 0. -4.]\n",
            " [-1.  2.]\n",
            " [ 3.  3.]\n",
            " [-5. -6.]\n",
            " [-4. -5.]\n",
            " [-2. -2.]]\n",
            "svm.dual_coef_= [[-0.95071299 -0.95037749 -0.94944609  0.92519669  0.92533989  1.        ]]\n",
            "svm.intercept_= [-0.05015611]\n",
            "At most 10 decisions: svm.decision_function(X)= [-1.0005336  -1.0005336  -0.99960225  1.00027171  1.00039775  0.94952701]\n",
            "Accuracy via svm.score(X,y)= 1.0\n",
            "####  5 ) SVM with SVC ####\n",
            " {'C': 100, 'break_ties': False, 'cache_size': 200, 'class_weight': None, 'coef0': 0.0, 'decision_function_shape': 'ovr', 'degree': 3, 'gamma': 0.5, 'kernel': 'rbf', 'max_iter': -1, 'probability': False, 'random_state': None, 'shrinking': True, 'tol': 0.001, 'verbose': False}\n",
            "svm.n_support_= [3 3]\n",
            "svm.support_= [0 1 2 3 4 5]\n",
            "svm.support_vectors_= [[ 0. -4.]\n",
            " [-1.  2.]\n",
            " [ 3.  3.]\n",
            " [-5. -6.]\n",
            " [-4. -5.]\n",
            " [-2. -2.]]\n",
            "svm.dual_coef_= [[-0.92134673 -0.90004482 -0.90020003  0.80423907  0.80226481  1.1150877 ]]\n",
            "svm.intercept_= [-0.0995152]\n",
            "At most 10 decisions: svm.decision_function(X)= [-1.00027475 -0.9995163  -0.99989836  0.99986429  1.00010163  0.99972347]\n",
            "Accuracy via svm.score(X,y)= 1.0\n",
            "####  6 ) SVM with SVC ####\n",
            " {'C': 100, 'break_ties': False, 'cache_size': 200, 'class_weight': None, 'coef0': 0.0, 'decision_function_shape': 'ovr', 'degree': 3, 'gamma': 1, 'kernel': 'rbf', 'max_iter': -1, 'probability': False, 'random_state': None, 'shrinking': True, 'tol': 0.001, 'verbose': False}\n",
            "svm.n_support_= [3 3]\n",
            "svm.support_= [0 1 2 3 4 5]\n",
            "svm.support_vectors_= [[ 0. -4.]\n",
            " [-1.  2.]\n",
            " [ 3.  3.]\n",
            " [-5. -6.]\n",
            " [-4. -5.]\n",
            " [-2. -2.]]\n",
            "svm.dual_coef_= [[-0.95911365 -0.95880852 -0.95819016  0.9175437   0.91701313  1.04155551]]\n",
            "svm.intercept_= [-0.04138538]\n",
            "At most 10 decisions: svm.decision_function(X)= [-1.00014959 -1.0001939  -0.99957558  1.00026255  0.9998061   0.99985041]\n",
            "Accuracy via svm.score(X,y)= 1.0\n",
            "('SVC RBF (gamma=0.5, C=0.01)', 'SVC RBF (gamma=1, C=0.01)', 'SVC RBF (gamma=0.5, C=1)', 'SVC RBF (gamma=1, C=1)', 'SVC RBF (gamma=0.5, C=100)', 'SVC RBF (gamma=1, C=100)') have accuracies:\n",
            "svm_scores= [1. 1. 1. 1. 1. 1.]\n"
          ]
        },
        {
          "output_type": "display_data",
          "data": {
            "text/plain": [
              "<Figure size 640x480 with 6 Axes>"
            ],
            "image/png": "[encoded data removed]"
          },
          "metadata": {}
        }
      ]
    },
    {
      "cell_type": "markdown",
      "source": [
        ">O score obtido para os 2 primeiros exemplos do conjunto de teste foi:\n",
        "*   Modelo 1: 1.0\n",
        "*   Modelo 2: 1.0\n",
        "\n",
        ">A discrepância nos resultados pode ser atribuida a baixa quantidade de exemplos utilizadas para o cálculo do score."
      ],
      "metadata": {
        "id": "igUUtUQx6dPa"
      }
    }
  ]
}